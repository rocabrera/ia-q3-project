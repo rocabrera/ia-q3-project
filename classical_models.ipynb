{
 "cells": [
  {
   "cell_type": "code",
   "execution_count": null,
   "metadata": {},
   "outputs": [],
   "source": [
    "import os\n",
    "import src.processing.data_processing as dp \n",
    "\n",
    "import numpy as np\n",
    "import pandas as pd\n",
    "\n",
    "from sklearn.svm import SVC\n",
    "from sklearn.tree import DecisionTreeClassifier\n",
    "from sklearn.neighbors import KNeighborsClassifier\n",
    "from sklearn.ensemble import RandomForestClassifier\n",
    "from sklearn.pipeline import Pipeline\n",
    "\n",
    "from sklearn.preprocessing import StandardScaler\n",
    "from sklearn.model_selection import GridSearchCV\n",
    "from sklearn.model_selection import train_test_split"
   ]
  },
  {
   "cell_type": "code",
   "execution_count": null,
   "metadata": {},
   "outputs": [],
   "source": [
    "# Exp1\n",
    "decision_tree_parameters = {\"model__min_samples_leaf\": [1, 5, 10],\n",
    "                            \"model__min_samples_split\": [5, 10, 20],\n",
    "                            \"model__max_depth\": [4, 5, 10, None]}\n",
    "\n",
    "random_forest_parameters = {\"model__n_estimators\": [100,200,300],\n",
    "                            \"model__min_samples_leaf\": [1, 5, 10],\n",
    "                            \"model__min_samples_split\": [5, 10, 20],\n",
    "                            \"model__max_depth\": [4, 5, 10, None]}\n",
    "# Exp2\n",
    "\n",
    "knn_parameters = {\"model__n_neighbors\" : range(10, 110, 10),\n",
    "                  \"model__weights\" : [\"uniform\", \"distance\"],\n",
    "                  \"model__p\" : [1,2]}\n",
    "\n",
    "radial_svc_parameters = {\"model__C\": [0.01, 0.05, 0.1, 0.2, 1, 2, 3, 10],\n",
    "                         \"model__kernel\": [\"rbf\"],\n",
    "                         \"model__gamma\": [0.01, 0.05, 0.1, 0.2, 1]}\n",
    "\n",
    "models_exp1 = [(DecisionTreeClassifier, decision_tree_parameters), (RandomForestClassifier, random_forest_parameters)]\n",
    "models_exp2 = [(SVC, radial_svc_parameters), (KNeighborsClassifier, knn_parameters)]"
   ]
  },
  {
   "cell_type": "code",
   "execution_count": null,
   "metadata": {},
   "outputs": [],
   "source": [
    "# Loading data\n",
    "df = pd.read_excel(os.path.join(\"data\", \"Dry_Bean_Dataset.xlsx\"))\n",
    "\n",
    "# Processamento diferentes visto que nao temos eval\n",
    "X, y, size_pack, _ = dp.df_category_split(df)\n",
    "test_size = 0.2\n",
    "X_train, X_test, y_train, y_test = train_test_split(X, y, stratify=y, test_size=test_size, random_state=12)"
   ]
  },
  {
   "cell_type": "code",
   "execution_count": null,
   "metadata": {
    "tags": []
   },
   "outputs": [],
   "source": [
    "#exp 1\n",
    "for model, parameters in models_exp1:\n",
    "    pipe = Pipeline([('model', model())])\n",
    "    \n",
    "    grid = GridSearchCV(pipe, parameters, cv=5, n_jobs=-1, refit=True, verbose=2, scoring=\"accuracy\")\n",
    "    grid.fit(X_train, y_train)    \n",
    "    print(f\"Model: {model}\")\n",
    "    print(f\"Accuracy: {round(grid.score(X_test, y_test),3)}\")\n",
    "    print(f\"Best Parameters: {grid.best_params_}\")\n",
    "    print(\"#\" * 64)"
   ]
  },
  {
   "cell_type": "code",
   "execution_count": null,
   "metadata": {
    "tags": []
   },
   "outputs": [],
   "source": [
    "#exp 2\n",
    "for model, parameters in models_exp2:\n",
    "    pipe = Pipeline([('scaler', StandardScaler()), \n",
    "                     ('model', model())])\n",
    "    \n",
    "    grid = GridSearchCV(pipe, parameters, cv=5, n_jobs=-1, refit=1, verbose=2, scoring=\"accuracy\")\n",
    "    grid.fit(X_train, y_train)    \n",
    "    print(f\"Model: {model}\")\n",
    "    print(f\"Accuracy: {round(grid.score(X_test, y_test),3)}\")\n",
    "    print(f\"Best Parameters: {grid.best_params_}\")\n",
    "    print(\"#\" * 64)"
   ]
  }
 ],
 "metadata": {
  "kernelspec": {
   "display_name": "venv_playground",
   "language": "python",
   "name": "venv_playground"
  },
  "language_info": {
   "codemirror_mode": {
    "name": "ipython",
    "version": 3
   },
   "file_extension": ".py",
   "mimetype": "text/x-python",
   "name": "python",
   "nbconvert_exporter": "python",
   "pygments_lexer": "ipython3",
   "version": "3.9.6"
  }
 },
 "nbformat": 4,
 "nbformat_minor": 4
}
