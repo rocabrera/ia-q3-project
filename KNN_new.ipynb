{
 "cells": [
  {
   "cell_type": "code",
   "execution_count": 1,
   "metadata": {},
   "outputs": [],
   "source": [
    "import pandas as pd\n",
    "import src.processing.data_processing as dp\n",
    "import numpy as np\n",
    "from sklearn.model_selection import train_test_split\n",
    "from sklearn.preprocessing import MinMaxScaler\n",
    "from sklearn.model_selection import GridSearchCV\n",
    "from sklearn.neighbors import KNeighborsClassifier\n",
    "import os"
   ]
  },
  {
   "cell_type": "code",
   "execution_count": 2,
   "metadata": {},
   "outputs": [],
   "source": [
    "# Loading data\n",
    "df = pd.read_excel(os.path.join(\"data\", \"Dry_Bean_Dataset.xlsx\"))\n",
    "\n",
    "# Processamento diferentes visto que nao temos eval\n",
    "X, y, size_pack, _ = dp.df_category_split(df)\n",
    "X = dp.normalize_df(X)\n",
    "test_size = 0.05\n",
    "X_train, X_test, y_train, y_test = train_test_split(\n",
    "        X, y, stratify=y, test_size=test_size, random_state=12)"
   ]
  },
  {
   "cell_type": "code",
   "execution_count": 3,
   "metadata": {},
   "outputs": [],
   "source": [
    "# n_neighbors é auto-explicativo\n",
    "# p é para a métrica, 1 é manhattan, 2 é euclidiana\n",
    "# weights uniform essencialmente faz uma media aritimética dos elementos da vizinhaça para a decisão\n",
    "# weights distance essencialmente faz uma media ponderada dos elementos da vizinhaça para a decisão utilizando o inverso da distância\n",
    "# dá pra selecionar o tipo do algoritmo também por \n",
    "#                          'algorithm' :['ball_tree', 'kd_tree', 'brute']\n",
    "# no momento está como 'auto', isto é, o classificador escolhe o qual ele acha que será o melhor dado o input\n",
    "clf = GridSearchCV(KNeighborsClassifier(), {\n",
    "    'n_neighbors' : range(5,205,5),\n",
    "    'weights' : ['uniform', 'distance'],\n",
    "    'p' : [1,2]\n",
    "}, cv=5, return_train_score=False,)"
   ]
  },
  {
   "cell_type": "code",
   "execution_count": 4,
   "metadata": {},
   "outputs": [],
   "source": [
    "clf.fit(X_train,y_train)\n",
    "df_results = pd.DataFrame(clf.cv_results_)"
   ]
  },
  {
   "cell_type": "code",
   "execution_count": 5,
   "metadata": {},
   "outputs": [
    {
     "name": "stdout",
     "output_type": "stream",
     "text": [
      "count: 627\n",
      "final test accuracy: 0.920704845814978\n"
     ]
    }
   ],
   "source": [
    "# testing\n",
    "prediction = clf.predict(X_test)\n",
    "y_test_np = y_test.to_numpy(dtype=int)\n",
    "corrects = np.count_nonzero(prediction==y_test_np)\n",
    "acc = corrects/len(y_test_np)\n",
    "print(f\"count: {corrects}\")\n",
    "acc = corrects/len(y_test)\n",
    "print (f\"final test accuracy: {acc}\")"
   ]
  },
  {
   "cell_type": "code",
   "execution_count": null,
   "metadata": {},
   "outputs": [],
   "source": []
  }
 ],
 "metadata": {
  "kernelspec": {
   "display_name": "Python 3",
   "language": "python",
   "name": "python3"
  },
  "language_info": {
   "codemirror_mode": {
    "name": "ipython",
    "version": 3
   },
   "file_extension": ".py",
   "mimetype": "text/x-python",
   "name": "python",
   "nbconvert_exporter": "python",
   "pygments_lexer": "ipython3",
   "version": "3.8.5"
  }
 },
 "nbformat": 4,
 "nbformat_minor": 4
}
