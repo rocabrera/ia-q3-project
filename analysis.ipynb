{
 "cells": [
  {
   "cell_type": "code",
   "execution_count": null,
   "id": "64115fbf-1f92-4e8a-84bb-678edc325004",
   "metadata": {},
   "outputs": [],
   "source": [
    "import numpy as np\n",
    "import pandas as pd\n",
    "import seaborn as sns\n",
    "sns.set_theme(style=\"whitegrid\")\n",
    "import matplotlib.pyplot as plt"
   ]
  },
  {
   "cell_type": "code",
   "execution_count": null,
   "id": "8a5c5522-09d9-4ad7-8bfd-4185d9bc9810",
   "metadata": {},
   "outputs": [],
   "source": [
    "df = pd.read_csv(\"results/model_results.csv\")"
   ]
  },
  {
   "cell_type": "markdown",
   "id": "39c7f740-3f7f-4801-b645-a500a8158c77",
   "metadata": {},
   "source": [
    "Como o número de épocas se relaciona com o learning_rate\n",
    "\n",
    "- complexidade do modelo \n",
    "- learning rate\n",
    "- época\n",
    "\n",
    "+complexidade -> mais épocas, learning rate menor (supondo que não ha minimos locais)\n",
    "              -> menor épocas, learning rate maior"
   ]
  },
  {
   "cell_type": "markdown",
   "id": "fe988ce3-4fc4-412e-822e-f0bb7888f9f5",
   "metadata": {},
   "source": [
    "# **Explorando** "
   ]
  },
  {
   "cell_type": "code",
   "execution_count": null,
   "id": "fb72e95c-080d-48b6-a52d-e080f8ee7422",
   "metadata": {
    "tags": []
   },
   "outputs": [],
   "source": [
    "# a complexidade do modelo é definida pelo número de parâmetros\n",
    "def model_complexity(x):\n",
    "    lista = eval(x)\n",
    "    lista.insert(0, 16)\n",
    "    return sum(i*j for i, j in zip(lista, lista[1:]))\n",
    "\n",
    "df = df.assign(complexity = df.hidden_layers.apply(model_complexity))\n",
    "df.hidden_layers = df.hidden_layers.apply(eval)\n",
    "df = df.assign(min_neuronio_layer = df.hidden_layers.apply(min),\n",
    "               complexity_tier = pd.cut(df.complexity, 3).cat.codes.map({0:\"baixo\", 1:\"médio\", 2:\"alto\"}))\n"
   ]
  },
  {
   "cell_type": "code",
   "execution_count": null,
   "id": "09bdf7cd-d2bd-40d5-ba06-5502f6c322c6",
   "metadata": {
    "tags": []
   },
   "outputs": [],
   "source": [
    "plot_df = df.rename(columns={\"accuracy\":\"Acurácia\", \n",
    "                             \"complexity_tier\": \"Rank de Complexidade\",\n",
    "                             \"learning_rate\": \"Taxa de Aprendizagem\",\n",
    "                             \"num_epochs\":\"Número de épocas\",\n",
    "                             \"min_neuronio_layer\":\"Menor Camada\"})\n",
    "\n",
    "g = sns.FacetGrid(plot_df, row=\"Rank de Complexidade\", hue=\"Número de épocas\", height=4, aspect=2,palette=\"bright\")\n",
    "g.map(sns.stripplot, \n",
    "      \"Taxa de Aprendizagem\", \n",
    "      \"Acurácia\", \n",
    "#      alpha=0.4,\n",
    "      edgecolor=\"black\",\n",
    "      linewidth=0.8, \n",
    "      jitter=0.15,\n",
    "      order=[0.001, 0.01, 0.1, 0.15])\n",
    "\n",
    "g.map(plt.axhline, y=0.8, ls='--', c='gray')\n",
    "g.map(plt.axhline, y=0.4, ls='--', c='gray')\n",
    "g.map(plt.axhline, y=0.2, ls='--', c='gray')\n",
    "\n",
    "g.map(plt.axhspan, ymin=.8, ymax=1, color='lightgray')\n",
    "g.map(plt.axhspan, ymin=.4, ymax=.8, color='beige')\n",
    "g.map(plt.axhspan, ymin=.2, ymax=.4, color='peachpuff')\n",
    "\n",
    "g.add_legend()\n",
    "sns.move_legend(g, \"lower center\", bbox_to_anchor=(.45, 1.01), ncol=4, title=\"Número de Épocas\", frameon=False)\n",
    "\n",
    "for lh in g._legend.legendHandles: \n",
    "    lh._sizes = [100]\n",
    "    \n",
    "plt.savefig(\"figures/analysis.eps\", format=\"eps\", bbox_inches='tight')"
   ]
  },
  {
   "cell_type": "markdown",
   "id": "d0962128-5f11-4512-9e25-dd3b6ab49967",
   "metadata": {
    "tags": []
   },
   "source": [
    "# **Análise Imagem**"
   ]
  },
  {
   "cell_type": "code",
   "execution_count": null,
   "id": "aea25c42-187f-4085-8c14-eb4a5b765c8d",
   "metadata": {
    "tags": []
   },
   "outputs": [],
   "source": [
    "metrics = [np.mean, np.std, min, max]\n",
    "plot_df.groupby(\"Menor Camada\").agg({\"Acurácia\":metrics})"
   ]
  },
  {
   "cell_type": "code",
   "execution_count": null,
   "id": "1f3f9ee7-cd6e-4416-a5b9-bdb051e96a37",
   "metadata": {},
   "outputs": [],
   "source": [
    "regiao3 = plot_df.query(\"0.2 < Acurácia & Acurácia < 0.4\")\n",
    "camadas3 = regiao3[\"Menor Camada\"].value_counts().sort_index()\n",
    "camadas3.name = \"Região 3\""
   ]
  },
  {
   "cell_type": "code",
   "execution_count": null,
   "id": "4f4f91ad-6fab-49ee-abfc-d70379bfad7b",
   "metadata": {},
   "outputs": [],
   "source": [
    "regiao2 = plot_df.query(\"0.4 < Acurácia & Acurácia < 0.8\")\n",
    "camadas2 = regiao2[\"Menor Camada\"].value_counts().sort_index()\n",
    "camadas2.name = \"Região 2\""
   ]
  },
  {
   "cell_type": "code",
   "execution_count": null,
   "id": "f2922233-7802-4662-9dad-25fbf7719462",
   "metadata": {},
   "outputs": [],
   "source": [
    "regiao1 = plot_df.query(\"Acurácia > 0.8\")\n",
    "regiao1[\"Menor Camada\"].value_counts().sort_index()\n",
    "camadas1 = regiao1[\"Menor Camada\"].value_counts().sort_index()\n",
    "camadas1.name = \"Região 1\""
   ]
  }
 ],
 "metadata": {
  "kernelspec": {
   "display_name": "venv_playground",
   "language": "python",
   "name": "venv_playground"
  },
  "language_info": {
   "codemirror_mode": {
    "name": "ipython",
    "version": 3
   },
   "file_extension": ".py",
   "mimetype": "text/x-python",
   "name": "python",
   "nbconvert_exporter": "python",
   "pygments_lexer": "ipython3",
   "version": "3.9.6"
  }
 },
 "nbformat": 4,
 "nbformat_minor": 5
}
